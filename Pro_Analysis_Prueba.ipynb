{
 "cells": [
  {
   "cell_type": "markdown",
   "id": "3bf64c88",
   "metadata": {},
   "source": [
    "# Profesional I\n",
    "## Analítica\n",
    "### Departamento de Analítica y Gestión de Información\n",
    "#### Prueba Específica - Junio 2021"
   ]
  },
  {
   "cell_type": "markdown",
   "id": "83f5a160",
   "metadata": {},
   "source": [
    "Uno de los principales inconvenientes en la masificación de los productos de crédito móviles es el conocimiento del ingreso real del cliente. Para este tipo de canales es de alta importancia la información que se puede capturar en el momento de la solicitud, en\n",
    "donde se puede pedir al cliente diligenciar una serie de variables demográficas (edad, género, estrato, empleador, etc.) y su ingreso mensual. \n",
    "\n",
    "Se ha identificado que existe una población de clientes que declara niveles de ingresos mucho mayores a los que realmente devengan, para los cuales es necesario construir una política que permita ajustar su endeudamiento.\n",
    "\n",
    "Su objetivo es utilizar la base de datos proporcionada para determinar cuáles son los factores que influyen en que un cliente declare un ingreso superior al realmente devengado, y plantear recomendaciones accionables basadas en sus hallazgos.\n",
    "\n",
    "Adicional al diagnóstico arriba mencionado, usted deberá construir un modelo de clasificación que permita identificar a los clientes que con mayor probabilidad estarían declarando un ingreso superior al real (utilice 20% como umbral para definir que el ingreso fue mayor).\n"
   ]
  },
  {
   "cell_type": "markdown",
   "id": "c1c48c20",
   "metadata": {},
   "source": [
    "Para solucionar el problema se plantea el siguiente esquema:\n",
    "    \n",
    "**1.** Realice labores de limpieza, exploración, y visualización de la información, que le permitan llegar a conclusiones preliminares y responder preguntas de tipo descriptivo (regiones con mayor desviación, estratos con mayor desviación, edades con mayor desviación, etc.)\n",
    "\n",
    "**2.** Construya un modelo analítico que permita determinar si un cliente declara ingresos superiores a los reales. Explique de qué manera escogió el modelo y qué métricas utilizó para validar su desempeño.\n",
    "\n",
    "**3.** Explique a manera de conclusión como se puede utilizar el resultado del modelo planteado, y cómo se podrían crear polìticas que mitiguen el riesgo de estos clientes.\n",
    "\n",
    "*Recuerde que las conclusiones y/o recomendaciones deben ser accionables, es decir, deben generar un posible plan de acción que permita mejorar el resultado encontrado.*"
   ]
  },
  {
   "cell_type": "markdown",
   "id": "38a1c484",
   "metadata": {},
   "source": [
    "## Solución"
   ]
  },
  {
   "cell_type": "markdown",
   "id": "498ea3a0",
   "metadata": {},
   "source": [
    "El primer paso es importar las librerias de Python útiles para el análisis de los datos y el desarrollo de los modelos analiticos."
   ]
  },
  {
   "cell_type": "code",
   "execution_count": 1,
   "id": "3434aa06",
   "metadata": {},
   "outputs": [],
   "source": [
    "import pandas as pd\n",
    "import numpy as np\n",
    "import scipy.optimize as opt\n",
    "%matplotlib inline \n",
    "import matplotlib.pyplot as plt"
   ]
  },
  {
   "cell_type": "markdown",
   "id": "2cf7763b",
   "metadata": {},
   "source": [
    "Se utiliza el método de Pandas `read_excel()` para cargar los datos desde el archivo suministrado."
   ]
  },
  {
   "cell_type": "code",
   "execution_count": 2,
   "id": "8482b0c5",
   "metadata": {},
   "outputs": [
    {
     "data": {
      "text/html": [
       "<div>\n",
       "<style scoped>\n",
       "    .dataframe tbody tr th:only-of-type {\n",
       "        vertical-align: middle;\n",
       "    }\n",
       "\n",
       "    .dataframe tbody tr th {\n",
       "        vertical-align: top;\n",
       "    }\n",
       "\n",
       "    .dataframe thead th {\n",
       "        text-align: right;\n",
       "    }\n",
       "</style>\n",
       "<table border=\"1\" class=\"dataframe\">\n",
       "  <thead>\n",
       "    <tr style=\"text-align: right;\">\n",
       "      <th></th>\n",
       "      <th>id</th>\n",
       "      <th>tipo_p</th>\n",
       "      <th>CANAL</th>\n",
       "      <th>EDAD</th>\n",
       "      <th>TIPO_CLIENTE_CUENTAS</th>\n",
       "      <th>INGRESO_DECLARADO</th>\n",
       "      <th>INGRESO_REAL</th>\n",
       "      <th>ACIERTA</th>\n",
       "      <th>NIVEL_RIESGO</th>\n",
       "      <th>TIPO_VENTA</th>\n",
       "      <th>SUCURSAL</th>\n",
       "      <th>REGIONAL</th>\n",
       "    </tr>\n",
       "  </thead>\n",
       "  <tbody>\n",
       "    <tr>\n",
       "      <th>0</th>\n",
       "      <td>1</td>\n",
       "      <td>Independiente</td>\n",
       "      <td>WEB</td>\n",
       "      <td>41-50</td>\n",
       "      <td>Antiguo</td>\n",
       "      <td>400000.0</td>\n",
       "      <td>1250.000</td>\n",
       "      <td>675</td>\n",
       "      <td>MEDIO</td>\n",
       "      <td>Asistido</td>\n",
       "      <td>BOYACA</td>\n",
       "      <td>CENTRO SUR</td>\n",
       "    </tr>\n",
       "    <tr>\n",
       "      <th>1</th>\n",
       "      <td>2</td>\n",
       "      <td>Independiente</td>\n",
       "      <td>APP</td>\n",
       "      <td>31-35</td>\n",
       "      <td>Antiguo</td>\n",
       "      <td>150000.0</td>\n",
       "      <td>781.242</td>\n",
       "      <td>717</td>\n",
       "      <td>MEDIO</td>\n",
       "      <td>Asistido</td>\n",
       "      <td>BOGOTA</td>\n",
       "      <td>BOGOTA Y CUNDINAMARCA</td>\n",
       "    </tr>\n",
       "    <tr>\n",
       "      <th>2</th>\n",
       "      <td>3</td>\n",
       "      <td>Independiente</td>\n",
       "      <td>APP</td>\n",
       "      <td>36-40</td>\n",
       "      <td>Nuevo Act Dav</td>\n",
       "      <td>140000.0</td>\n",
       "      <td>785.979</td>\n",
       "      <td>753</td>\n",
       "      <td>MEDIO</td>\n",
       "      <td>Asistido</td>\n",
       "      <td>BOGOTA</td>\n",
       "      <td>BOGOTA Y CUNDINAMARCA</td>\n",
       "    </tr>\n",
       "    <tr>\n",
       "      <th>3</th>\n",
       "      <td>4</td>\n",
       "      <td>Independiente</td>\n",
       "      <td>WEB</td>\n",
       "      <td>41-50</td>\n",
       "      <td>Antiguo</td>\n",
       "      <td>150000.0</td>\n",
       "      <td>1135.000</td>\n",
       "      <td>849</td>\n",
       "      <td>BAJO</td>\n",
       "      <td>Asistido</td>\n",
       "      <td>BOGOTA</td>\n",
       "      <td>BOGOTA Y CUNDINAMARCA</td>\n",
       "    </tr>\n",
       "    <tr>\n",
       "      <th>4</th>\n",
       "      <td>5</td>\n",
       "      <td>Independiente</td>\n",
       "      <td>APP</td>\n",
       "      <td>36-40</td>\n",
       "      <td>Antiguo</td>\n",
       "      <td>90000.0</td>\n",
       "      <td>781.242</td>\n",
       "      <td>653</td>\n",
       "      <td>MEDIO</td>\n",
       "      <td>Asistido</td>\n",
       "      <td>VALLE</td>\n",
       "      <td>VALLE</td>\n",
       "    </tr>\n",
       "  </tbody>\n",
       "</table>\n",
       "</div>"
      ],
      "text/plain": [
       "   id         tipo_p CANAL    EDAD TIPO_CLIENTE_CUENTAS  INGRESO_DECLARADO  \\\n",
       "0   1  Independiente   WEB   41-50              Antiguo           400000.0   \n",
       "1   2  Independiente   APP   31-35              Antiguo           150000.0   \n",
       "2   3  Independiente   APP   36-40        Nuevo Act Dav           140000.0   \n",
       "3   4  Independiente   WEB   41-50              Antiguo           150000.0   \n",
       "4   5  Independiente   APP   36-40              Antiguo            90000.0   \n",
       "\n",
       "   INGRESO_REAL  ACIERTA NIVEL_RIESGO TIPO_VENTA SUCURSAL  \\\n",
       "0      1250.000      675        MEDIO   Asistido   BOYACA   \n",
       "1       781.242      717        MEDIO   Asistido   BOGOTA   \n",
       "2       785.979      753        MEDIO   Asistido   BOGOTA   \n",
       "3      1135.000      849         BAJO   Asistido   BOGOTA   \n",
       "4       781.242      653        MEDIO   Asistido    VALLE   \n",
       "\n",
       "                REGIONAL  \n",
       "0             CENTRO SUR  \n",
       "1  BOGOTA Y CUNDINAMARCA  \n",
       "2  BOGOTA Y CUNDINAMARCA  \n",
       "3  BOGOTA Y CUNDINAMARCA  \n",
       "4                  VALLE  "
      ]
     },
     "execution_count": 2,
     "metadata": {},
     "output_type": "execute_result"
    }
   ],
   "source": [
    "cc_analytics = pd.read_excel(\"AnexoProfesionalIAnalítica.xlsx\")\n",
    "cc_analytics.head()"
   ]
  },
  {
   "cell_type": "markdown",
   "id": "bc800869",
   "metadata": {},
   "source": [
    "Es útil conocer los tipos de variables de los datos para decidir sobre el método de visualización a usar."
   ]
  },
  {
   "cell_type": "code",
   "execution_count": 3,
   "id": "9f96ae1a",
   "metadata": {},
   "outputs": [
    {
     "name": "stdout",
     "output_type": "stream",
     "text": [
      "<class 'pandas.core.frame.DataFrame'>\n",
      "RangeIndex: 5333 entries, 0 to 5332\n",
      "Data columns (total 12 columns):\n",
      " #   Column                Non-Null Count  Dtype  \n",
      "---  ------                --------------  -----  \n",
      " 0   id                    5333 non-null   int64  \n",
      " 1   tipo_p                5333 non-null   object \n",
      " 2   CANAL                 5333 non-null   object \n",
      " 3   EDAD                  5333 non-null   object \n",
      " 4   TIPO_CLIENTE_CUENTAS  5333 non-null   object \n",
      " 5   INGRESO_DECLARADO     5333 non-null   float64\n",
      " 6   INGRESO_REAL          5333 non-null   float64\n",
      " 7   ACIERTA               5333 non-null   int64  \n",
      " 8   NIVEL_RIESGO          5333 non-null   object \n",
      " 9   TIPO_VENTA            5333 non-null   object \n",
      " 10  SUCURSAL              5333 non-null   object \n",
      " 11  REGIONAL              5333 non-null   object \n",
      "dtypes: float64(2), int64(2), object(8)\n",
      "memory usage: 500.1+ KB\n",
      "None\n"
     ]
    }
   ],
   "source": [
    "cc_analytics_info = cc_analytics.info()\n",
    "print(cc_analytics_info)"
   ]
  },
  {
   "cell_type": "markdown",
   "id": "07b50098",
   "metadata": {},
   "source": [
    "A continuación se identifican los valores faltantes y usando un loop, se puede calcular el número de valores faltantes en cada columna. \n",
    "\"True\" representa un valor perdido, \"False\" significa que el valor está presente en el conjunto de datos. En el *bucle*, el método `.value_counts ()` cuenta el número de valores \"True\"."
   ]
  },
  {
   "cell_type": "code",
   "execution_count": 4,
   "id": "da511f2b",
   "metadata": {},
   "outputs": [
    {
     "name": "stdout",
     "output_type": "stream",
     "text": [
      "id\n",
      "False    5333\n",
      "Name: id, dtype: int64\n",
      "\n",
      "tipo_p\n",
      "False    5333\n",
      "Name: tipo_p, dtype: int64\n",
      "\n",
      "CANAL\n",
      "False    5333\n",
      "Name: CANAL, dtype: int64\n",
      "\n",
      "EDAD\n",
      "False    5333\n",
      "Name: EDAD, dtype: int64\n",
      "\n",
      "TIPO_CLIENTE_CUENTAS\n",
      "False    5333\n",
      "Name: TIPO_CLIENTE_CUENTAS, dtype: int64\n",
      "\n",
      "INGRESO_DECLARADO\n",
      "False    5333\n",
      "Name: INGRESO_DECLARADO, dtype: int64\n",
      "\n",
      "INGRESO_REAL\n",
      "False    5333\n",
      "Name: INGRESO_REAL, dtype: int64\n",
      "\n",
      "ACIERTA\n",
      "False    5333\n",
      "Name: ACIERTA, dtype: int64\n",
      "\n",
      "NIVEL_RIESGO\n",
      "False    5333\n",
      "Name: NIVEL_RIESGO, dtype: int64\n",
      "\n",
      "TIPO_VENTA\n",
      "False    5333\n",
      "Name: TIPO_VENTA, dtype: int64\n",
      "\n",
      "SUCURSAL\n",
      "False    5333\n",
      "Name: SUCURSAL, dtype: int64\n",
      "\n",
      "REGIONAL\n",
      "False    5333\n",
      "Name: REGIONAL, dtype: int64\n",
      "\n"
     ]
    }
   ],
   "source": [
    "missing_data = cc_analytics.isnull()\n",
    "\n",
    "for column in missing_data.columns.values.tolist():\n",
    "    print(column)\n",
    "    print (missing_data[column].value_counts())\n",
    "    print(\"\")"
   ]
  },
  {
   "cell_type": "markdown",
   "id": "32fdbe00",
   "metadata": {},
   "source": [
    "Con base en esta información se sabe que cada columna tiene 5333 filas de datos. En ninguna columna se presentan datos faltantes.\n",
    " \n",
    "Utilizando el método `.describe()` se obtiene información estadística de los datos, tanto de las variables categoricas como de las númericas."
   ]
  },
  {
   "cell_type": "code",
   "execution_count": 5,
   "id": "0bffc493",
   "metadata": {},
   "outputs": [
    {
     "name": "stdout",
     "output_type": "stream",
     "text": [
      "          tipo_p CANAL    EDAD TIPO_CLIENTE_CUENTAS NIVEL_RIESGO TIPO_VENTA  \\\n",
      "count       5333  5333    5333                 5333         5333       5333   \n",
      "unique         3     2       7                    3            3          2   \n",
      "top     Empleado   APP   41-50              Antiguo        MEDIO   Asistido   \n",
      "freq        3715  4253    1461                 2732         3118       3198   \n",
      "\n",
      "       SUCURSAL               REGIONAL  \n",
      "count      5333                   5333  \n",
      "unique       21                      7  \n",
      "top      BOGOTA  BOGOTA Y CUNDINAMARCA  \n",
      "freq       2289                   2289  \n"
     ]
    }
   ],
   "source": [
    "cc_analytics_description_categ = cc_analytics.describe(include=['object'])\n",
    "print(cc_analytics_description_categ)"
   ]
  },
  {
   "cell_type": "code",
   "execution_count": 6,
   "id": "9a8c69e7",
   "metadata": {},
   "outputs": [
    {
     "name": "stdout",
     "output_type": "stream",
     "text": [
      "                id  INGRESO_DECLARADO  INGRESO_REAL      ACIERTA\n",
      "count  5333.000000        5333.000000   5333.000000  5333.000000\n",
      "mean   2667.000000        8667.895975   4302.222439   753.593475\n",
      "std    1539.648824       13502.841959   4928.627632    84.908766\n",
      "min       1.000000           0.004000    737.717000   457.000000\n",
      "25%    1334.000000        3343.042000    902.780000   687.000000\n",
      "50%    2667.000000        5400.000000   2210.000000   746.000000\n",
      "75%    4000.000000        9900.000000   5690.042000   812.000000\n",
      "max    5333.000000      400000.000000  54481.000000   999.000000\n"
     ]
    }
   ],
   "source": [
    "cc_analytics_description_values = cc_analytics.describe()\n",
    "print(cc_analytics_description_values)"
   ]
  },
  {
   "cell_type": "code",
   "execution_count": 7,
   "id": "a0419830",
   "metadata": {},
   "outputs": [
    {
     "data": {
      "text/plain": [
       "id                      0\n",
       "tipo_p                  0\n",
       "CANAL                   0\n",
       "EDAD                    0\n",
       "TIPO_CLIENTE_CUENTAS    0\n",
       "INGRESO_DECLARADO       0\n",
       "INGRESO_REAL            0\n",
       "ACIERTA                 0\n",
       "NIVEL_RIESGO            0\n",
       "TIPO_VENTA              0\n",
       "SUCURSAL                0\n",
       "REGIONAL                0\n",
       "dtype: int64"
      ]
     },
     "execution_count": 7,
     "metadata": {},
     "output_type": "execute_result"
    }
   ],
   "source": [
    "cc_analytics.isnull().sum()"
   ]
  },
  {
   "cell_type": "markdown",
   "id": "789fadc9",
   "metadata": {},
   "source": [
    "Nos interesa clasificar a los clientes según la diferencia porcentual entre el valor real y el valor reportado de ingresos. Siguiendo las recomendaciones se usara la siguiente clasificación:\n",
    " * 1 (True): si el ingreso reportado es >20%  del ingreso real\n",
    " * 0 (False): para los otros casos (<=20%)"
   ]
  },
  {
   "cell_type": "code",
   "execution_count": 8,
   "id": "f32e3733",
   "metadata": {},
   "outputs": [],
   "source": [
    "dif_Perc = 100*np.absolute(((cc_analytics[\"INGRESO_REAL\"]-cc_analytics[\"INGRESO_DECLARADO\"]))/(cc_analytics[\"INGRESO_REAL\"]))\n",
    "\n",
    "cc_analytics[\"dif_Perc\"] = dif_Perc\n",
    "\n",
    "cc_analytics[\"REPORTA_MAYOR_INGRESO\"] = 0 \n",
    "\n",
    "for i in cc_analytics.index:\n",
    "    if(cc_analytics[\"INGRESO_REAL\"][i]<cc_analytics[\"INGRESO_DECLARADO\"][i]):\n",
    "        if(cc_analytics[\"dif_Perc\"][i] > 20.0):\n",
    "            cc_analytics.loc[i,\"REPORTA_MAYOR_INGRESO\"] = 1\n",
    "    else:\n",
    "        cc_analytics.loc[i,\"REPORTA_MAYOR_INGRESO\"] = 0"
   ]
  },
  {
   "cell_type": "code",
   "execution_count": 9,
   "id": "bb6e6639",
   "metadata": {},
   "outputs": [],
   "source": [
    "from sklearn.preprocessing import LabelEncoder\n",
    "\n",
    "le = LabelEncoder()\n",
    "\n",
    "for col in cc_analytics.columns.to_numpy():\n",
    "    if cc_analytics[col].dtypes == 'object':\n",
    "        cc_analytics[col]=le.fit_transform(cc_analytics[col])"
   ]
  },
  {
   "cell_type": "code",
   "execution_count": 10,
   "id": "7986116a",
   "metadata": {},
   "outputs": [],
   "source": [
    "#cc_analytics.head(-5)"
   ]
  },
  {
   "cell_type": "code",
   "execution_count": 11,
   "id": "d072d5d5",
   "metadata": {},
   "outputs": [],
   "source": [
    "from sklearn.model_selection import train_test_split\n",
    "cc_analytics = cc_analytics.drop([\"id\",\"CANAL\",\"TIPO_VENTA\",\"REGIONAL\",\"dif_Perc\"], axis=1)\n",
    "cc_analytics = cc_analytics.to_numpy()\n",
    "\n",
    "X,y = cc_analytics[:,0:8], cc_analytics[:,8]\n",
    "\n",
    "X_train, X_test, y_train, y_test = train_test_split(X,\n",
    "                                y,\n",
    "                                test_size=0.33,\n",
    "                                random_state=42)"
   ]
  },
  {
   "cell_type": "code",
   "execution_count": 12,
   "id": "03863795",
   "metadata": {},
   "outputs": [
    {
     "name": "stdout",
     "output_type": "stream",
     "text": [
      "Train set: (3573, 8) (3573,)\n",
      "Test set: (1760, 8) (1760,)\n"
     ]
    }
   ],
   "source": [
    "# Import MinMaxScaler\n",
    "# ... YOUR CODE FOR TASK 8 ...\n",
    "from sklearn.preprocessing import MinMaxScaler\n",
    "# Instantiate MinMaxScaler and use it to rescale X_train and X_test\n",
    "scaler = MinMaxScaler(feature_range=(0, 1))\n",
    "rescaledX_train = scaler.fit_transform(X_train)\n",
    "rescaledX_test = scaler.transform(X_test)\n",
    "\n",
    "print ('Train set:', rescaledX_train.shape,  y_train.shape)\n",
    "print ('Test set:', rescaledX_test.shape,  y_test.shape)"
   ]
  },
  {
   "cell_type": "code",
   "execution_count": 13,
   "id": "2e055227",
   "metadata": {},
   "outputs": [
    {
     "data": {
      "text/plain": [
       "LogisticRegression()"
      ]
     },
     "execution_count": 13,
     "metadata": {},
     "output_type": "execute_result"
    }
   ],
   "source": [
    "# Import LogisticRegression\n",
    "# ... YOUR CODE FOR TASK 9 ...\n",
    "from sklearn.linear_model import LogisticRegression\n",
    "# Instantiate a LogisticRegression classifier with default parameter values\n",
    "logreg = LogisticRegression()\n",
    "\n",
    "# Fit logreg to the train set\n",
    "# ... YOUR CODE FOR TASK 9 ...\n",
    "logreg.fit(rescaledX_train,y_train)"
   ]
  },
  {
   "cell_type": "code",
   "execution_count": 17,
   "id": "427ebcc8",
   "metadata": {},
   "outputs": [
    {
     "data": {
      "text/plain": [
       "array([1., 1., 1., ..., 1., 1., 0.])"
      ]
     },
     "execution_count": 17,
     "metadata": {},
     "output_type": "execute_result"
    }
   ],
   "source": [
    "# ... YOUR CODE FOR TASK 10 ...\n",
    "from sklearn.metrics import confusion_matrix\n",
    "# Use logreg to predict instances from the test set and store it\n",
    "y_pred = logreg.predict(rescaledX_test)\n",
    "y_pred\n"
   ]
  },
  {
   "cell_type": "code",
   "execution_count": 19,
   "id": "eae2618f",
   "metadata": {},
   "outputs": [
    {
     "data": {
      "text/plain": [
       "array([[0.1067577 , 0.8932423 ],\n",
       "       [0.32239025, 0.67760975],\n",
       "       [0.1618705 , 0.8381295 ],\n",
       "       ...,\n",
       "       [0.41647163, 0.58352837],\n",
       "       [0.23398245, 0.76601755],\n",
       "       [0.60317866, 0.39682134]])"
      ]
     },
     "execution_count": 19,
     "metadata": {},
     "output_type": "execute_result"
    }
   ],
   "source": [
    "y_pred_prob = logreg.predict_proba(rescaledX_test)\n",
    "y_pred_prob"
   ]
  },
  {
   "cell_type": "markdown",
   "id": "bc1b2ffd",
   "metadata": {},
   "source": [
    "### Evaluación"
   ]
  },
  {
   "cell_type": "markdown",
   "id": "1ef56101",
   "metadata": {},
   "source": [
    "### jaccard index\n",
    "\n",
    "Lets try jaccard index for accuracy evaluation. we can define jaccard as the size of the intersection divided by the size of the union of two label sets. If the entire set of predicted labels for a sample strictly match with the true set of labels, then the subset accuracy is 1.0; otherwise it is 0.0.\n"
   ]
  },
  {
   "cell_type": "code",
   "execution_count": 20,
   "id": "fa042777",
   "metadata": {},
   "outputs": [
    {
     "data": {
      "text/plain": [
       "0.5085714285714286"
      ]
     },
     "execution_count": 20,
     "metadata": {},
     "output_type": "execute_result"
    }
   ],
   "source": [
    "from sklearn.metrics import jaccard_score\n",
    "jaccard_score(y_test, y_pred,pos_label=0)"
   ]
  },
  {
   "cell_type": "markdown",
   "id": "3e6f99aa",
   "metadata": {},
   "source": [
    "### confusion matrix\n",
    "\n",
    "Another way of looking at accuracy of classifier is to look at **confusion matrix**."
   ]
  },
  {
   "cell_type": "code",
   "execution_count": 22,
   "id": "e2deff19",
   "metadata": {},
   "outputs": [
    {
     "name": "stdout",
     "output_type": "stream",
     "text": [
      "[[1060   66]\n",
      " [ 278  356]]\n"
     ]
    }
   ],
   "source": [
    "from sklearn.metrics import classification_report, confusion_matrix\n",
    "import itertools\n",
    "def plot_confusion_matrix(cm, classes,\n",
    "                          normalize=False,\n",
    "                          title='Confusion matrix',\n",
    "                          cmap=plt.cm.Blues):\n",
    "    \"\"\"\n",
    "    This function prints and plots the confusion matrix.\n",
    "    Normalization can be applied by setting `normalize=True`.\n",
    "    \"\"\"\n",
    "    if normalize:\n",
    "        cm = cm.astype('float') / cm.sum(axis=1)[:, np.newaxis]\n",
    "        print(\"Normalized confusion matrix\")\n",
    "    else:\n",
    "        print('Confusion matrix, without normalization')\n",
    "\n",
    "    print(cm)\n",
    "\n",
    "    plt.imshow(cm, interpolation='nearest', cmap=cmap)\n",
    "    plt.title(title)\n",
    "    plt.colorbar()\n",
    "    tick_marks = np.arange(len(classes))\n",
    "    plt.xticks(tick_marks, classes, rotation=45)\n",
    "    plt.yticks(tick_marks, classes)\n",
    "\n",
    "    fmt = '.2f' if normalize else 'd'\n",
    "    thresh = cm.max() / 2.\n",
    "    for i, j in itertools.product(range(cm.shape[0]), range(cm.shape[1])):\n",
    "        plt.text(j, i, format(cm[i, j], fmt),\n",
    "                 horizontalalignment=\"center\",\n",
    "                 color=\"white\" if cm[i, j] > thresh else \"black\")\n",
    "\n",
    "    plt.tight_layout()\n",
    "    plt.ylabel('True label')\n",
    "    plt.xlabel('Predicted label')\n",
    "print(confusion_matrix(y_test, y_pred, labels=[1,0]))"
   ]
  },
  {
   "cell_type": "code",
   "execution_count": 29,
   "id": "7ebe9fd0",
   "metadata": {},
   "outputs": [
    {
     "name": "stdout",
     "output_type": "stream",
     "text": [
      "Confusion matrix, without normalization\n",
      "[[1060   66]\n",
      " [ 278  356]]\n"
     ]
    },
    {
     "data": {
      "image/png": "[encoded data removed]",
      "text/plain": [
       "<Figure size 640x480 with 2 Axes>"
      ]
     },
     "metadata": {},
     "output_type": "display_data"
    }
   ],
   "source": [
    "# Compute confusion matrix\n",
    "cnf_matrix = confusion_matrix(y_test, y_pred, labels=[1,0])\n",
    "np.set_printoptions(precision=2)\n",
    "\n",
    "\n",
    "# Plot non-normalized confusion matrix\n",
    "plt.figure()\n",
    "plot_confusion_matrix(cnf_matrix, classes=['>20%=1','<20%=0'],normalize= False,  title='Confusion matrix')"
   ]
  },
  {
   "cell_type": "code",
   "execution_count": 28,
   "id": "4a4024c8",
   "metadata": {},
   "outputs": [
    {
     "name": "stdout",
     "output_type": "stream",
     "text": [
      "              precision    recall  f1-score   support\n",
      "\n",
      "         0.0       0.84      0.56      0.67       634\n",
      "         1.0       0.79      0.94      0.86      1126\n",
      "\n",
      "    accuracy                           0.80      1760\n",
      "   macro avg       0.82      0.75      0.77      1760\n",
      "weighted avg       0.81      0.80      0.79      1760\n",
      "\n"
     ]
    }
   ],
   "source": [
    "print (classification_report(y_test, y_pred))"
   ]
  },
  {
   "cell_type": "markdown",
   "id": "67b62fb6",
   "metadata": {},
   "source": [
    "### log loss\n",
    "\n",
    "Now, lets try **log loss** for evaluation. In logistic regression, the output can be the probability of customer churn is yes (or equals to 1). This probability is a value between 0 and 1.\n",
    "Log loss( Logarithmic loss) measures the performance of a classifier where the predicted output is a probability value between 0 and 1. "
   ]
  },
  {
   "cell_type": "code",
   "execution_count": 30,
   "id": "f0b8e245",
   "metadata": {},
   "outputs": [
    {
     "data": {
      "text/plain": [
       "0.41879518565629126"
      ]
     },
     "execution_count": 30,
     "metadata": {},
     "output_type": "execute_result"
    }
   ],
   "source": [
    "from sklearn.metrics import log_loss\n",
    "log_loss(y_test, y_pred_prob)"
   ]
  },
  {
   "cell_type": "code",
   "execution_count": 23,
   "id": "82684902",
   "metadata": {},
   "outputs": [
    {
     "name": "stdout",
     "output_type": "stream",
     "text": [
      "Accuracy of logistic regression classifier:  0.8045454545454546\n"
     ]
    },
    {
     "data": {
      "text/plain": [
       "array([[ 356,  278],\n",
       "       [  66, 1060]])"
      ]
     },
     "execution_count": 23,
     "metadata": {},
     "output_type": "execute_result"
    }
   ],
   "source": [
    "#from sklearn.metrics import confusion_matrix\n",
    "# Get the accuracy score of logreg model and print it\n",
    "print(\"Accuracy of logistic regression classifier: \", logreg.score(rescaledX_test,y_test))\n",
    "\n",
    "# Print the confusion matrix of the logreg model\n",
    "# ... YOUR CODE FOR TASK 10 ...\n",
    "confusion_matrix(y_test,y_pred)"
   ]
  },
  {
   "cell_type": "code",
   "execution_count": 32,
   "id": "a4d4e228",
   "metadata": {},
   "outputs": [],
   "source": [
    "# Import GridSearchCV\n",
    "# ... YOUR CODE FOR TASK 11 ...\n",
    "from sklearn.model_selection import GridSearchCV\n",
    "# Define the grid of values for tol and max_iter\n",
    "tol = [0.01,0.001,0.0001]\n",
    "max_iter = [100,150,200]\n",
    "\n",
    "# Create a dictionary where tol and max_iter are keys and the lists of their values are corresponding values\n",
    "param_grid = dict(tol=tol, max_iter=max_iter)"
   ]
  },
  {
   "cell_type": "code",
   "execution_count": 16,
   "id": "c74a6e98",
   "metadata": {},
   "outputs": [
    {
     "name": "stdout",
     "output_type": "stream",
     "text": [
      "Best: 0.777616 using {'max_iter': 100, 'tol': 0.01}\n"
     ]
    }
   ],
   "source": [
    "# Instantiate GridSearchCV with the required parameters\n",
    "grid_model = GridSearchCV(estimator=logreg, param_grid=param_grid, cv=5)\n",
    "\n",
    "# Use scaler to rescale X and assign it to rescaledX\n",
    "rescaledX = scaler.fit_transform(X)\n",
    "\n",
    "# Fit grid_model to the data\n",
    "grid_model_result = grid_model.fit(rescaledX, y)\n",
    "\n",
    "# Summarize results\n",
    "best_score, best_params = grid_model_result.best_score_, grid_model_result.best_params_\n",
    "print(\"Best: %f using %s\" % (best_score, best_params))"
   ]
  }
 ],
 "metadata": {
  "kernelspec": {
   "display_name": "Python 3",
   "language": "python",
   "name": "python3"
  },
  "language_info": {
   "codemirror_mode": {
    "name": "ipython",
    "version": 3
   },
   "file_extension": ".py",
   "mimetype": "text/x-python",
   "name": "python",
   "nbconvert_exporter": "python",
   "pygments_lexer": "ipython3",
   "version": "3.9.5"
  }
 },
 "nbformat": 4,
 "nbformat_minor": 5
}
