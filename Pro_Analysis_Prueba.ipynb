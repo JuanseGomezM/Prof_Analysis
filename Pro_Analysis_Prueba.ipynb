{
 "cells": [
  {
   "cell_type": "markdown",
   "id": "3bf64c88",
   "metadata": {},
   "source": [
    "# Profesional I\n",
    "## Analítica\n",
    "### Departamento de Analítica y Gestión de Información\n",
    "#### Prueba Específica - Junio 2021"
   ]
  },
  {
   "cell_type": "markdown",
   "id": "4773077e",
   "metadata": {},
   "source": [
    "### Desarrollada por: Juansebastian Gómez Muñoz\n",
    "25 de junio de 2021"
   ]
  },
  {
   "cell_type": "markdown",
   "id": "83f5a160",
   "metadata": {},
   "source": [
    "Uno de los principales inconvenientes en la masificación de los productos de crédito móviles es el conocimiento del ingreso real del cliente. Para este tipo de canales es de alta importancia la información que se puede capturar en el momento de la solicitud, en\n",
    "donde se puede pedir al cliente diligenciar una serie de variables demográficas (edad, género, estrato, empleador, etc.) y su ingreso mensual. \n",
    "\n",
    "Se ha identificado que existe una población de clientes que declara niveles de ingresos mucho mayores a los que realmente devengan, para los cuales es necesario construir una política que permita ajustar su endeudamiento.\n",
    "\n",
    "Su objetivo es utilizar la base de datos proporcionada para determinar cuáles son los factores que influyen en que un cliente declare un ingreso superior al realmente devengado, y plantear recomendaciones accionables basadas en sus hallazgos.\n",
    "\n",
    "Adicional al diagnóstico arriba mencionado, usted deberá construir un modelo de clasificación que permita identificar a los clientes que con mayor probabilidad estarían declarando un ingreso superior al real (utilice 20% como umbral para definir que el ingreso fue mayor).\n",
    "\n",
    "Para solucionar el problema se plantea el siguiente esquema:\n",
    "    \n",
    "**1.** Realice labores de limpieza, exploración, y visualización de la información, que le permitan llegar a conclusiones preliminares y responder preguntas de tipo descriptivo (regiones con mayor desviación, estratos con mayor desviación, edades con mayor desviación, etc.)\n",
    "\n",
    "**2.** Construya un modelo analítico que permita determinar si un cliente declara ingresos superiores a los reales. Explique de qué manera escogió el modelo y qué métricas utilizó para validar su desempeño.\n",
    "\n",
    "**3.** Explique a manera de conclusión como se puede utilizar el resultado del modelo planteado, y cómo se podrían crear polìticas que mitiguen el riesgo de estos clientes.\n",
    "\n",
    "*Recuerde que las conclusiones y/o recomendaciones deben ser accionables, es decir, deben generar un posible plan de acción que permita mejorar el resultado encontrado.*"
   ]
  },
  {
   "cell_type": "markdown",
   "id": "38a1c484",
   "metadata": {},
   "source": [
    "# Solución"
   ]
  },
  {
   "cell_type": "markdown",
   "id": "f34d9000",
   "metadata": {},
   "source": [
    "## 1. Limpieza, exploración, y visualización de la información"
   ]
  },
  {
   "cell_type": "markdown",
   "id": "0c7265e0",
   "metadata": {},
   "source": [
    "El primer paso es importar las librerias de Python útiles para el análisis de los datos y el desarrollo de los modelos analiticos."
   ]
  },
  {
   "cell_type": "code",
   "execution_count": 1,
   "id": "3434aa06",
   "metadata": {},
   "outputs": [],
   "source": [
    "import pandas as pd\n",
    "import numpy as np\n",
    "import scipy.optimize as opt\n",
    "import matplotlib.pyplot as plt\n",
    "import plotly.express as px\n",
    "import seaborn as sns\n",
    "%matplotlib inline"
   ]
  },
  {
   "cell_type": "markdown",
   "id": "94e59a4d",
   "metadata": {},
   "source": [
    "Se utiliza el método de Pandas `read_excel()` para cargar los datos desde el archivo suministrado a un DataFrame y visualizar la información que contiene."
   ]
  },
  {
   "cell_type": "code",
   "execution_count": 2,
   "id": "0daa4ca2",
   "metadata": {},
   "outputs": [
    {
     "data": {
      "text/html": [
       "<div>\n",
       "<style scoped>\n",
       "    .dataframe tbody tr th:only-of-type {\n",
       "        vertical-align: middle;\n",
       "    }\n",
       "\n",
       "    .dataframe tbody tr th {\n",
       "        vertical-align: top;\n",
       "    }\n",
       "\n",
       "    .dataframe thead th {\n",
       "        text-align: right;\n",
       "    }\n",
       "</style>\n",
       "<table border=\"1\" class=\"dataframe\">\n",
       "  <thead>\n",
       "    <tr style=\"text-align: right;\">\n",
       "      <th></th>\n",
       "      <th>id</th>\n",
       "      <th>tipo_p</th>\n",
       "      <th>CANAL</th>\n",
       "      <th>EDAD</th>\n",
       "      <th>TIPO_CLIENTE_CUENTAS</th>\n",
       "      <th>INGRESO_DECLARADO</th>\n",
       "      <th>INGRESO_REAL</th>\n",
       "      <th>ACIERTA</th>\n",
       "      <th>NIVEL_RIESGO</th>\n",
       "      <th>TIPO_VENTA</th>\n",
       "      <th>SUCURSAL</th>\n",
       "      <th>REGIONAL</th>\n",
       "    </tr>\n",
       "  </thead>\n",
       "  <tbody>\n",
       "    <tr>\n",
       "      <th>0</th>\n",
       "      <td>1</td>\n",
       "      <td>Independiente</td>\n",
       "      <td>WEB</td>\n",
       "      <td>41-50</td>\n",
       "      <td>Antiguo</td>\n",
       "      <td>400000.0</td>\n",
       "      <td>1250.000</td>\n",
       "      <td>675</td>\n",
       "      <td>MEDIO</td>\n",
       "      <td>Asistido</td>\n",
       "      <td>BOYACA</td>\n",
       "      <td>CENTRO SUR</td>\n",
       "    </tr>\n",
       "    <tr>\n",
       "      <th>1</th>\n",
       "      <td>2</td>\n",
       "      <td>Independiente</td>\n",
       "      <td>APP</td>\n",
       "      <td>31-35</td>\n",
       "      <td>Antiguo</td>\n",
       "      <td>150000.0</td>\n",
       "      <td>781.242</td>\n",
       "      <td>717</td>\n",
       "      <td>MEDIO</td>\n",
       "      <td>Asistido</td>\n",
       "      <td>BOGOTA</td>\n",
       "      <td>BOGOTA Y CUNDINAMARCA</td>\n",
       "    </tr>\n",
       "    <tr>\n",
       "      <th>2</th>\n",
       "      <td>3</td>\n",
       "      <td>Independiente</td>\n",
       "      <td>APP</td>\n",
       "      <td>36-40</td>\n",
       "      <td>Nuevo Act Dav</td>\n",
       "      <td>140000.0</td>\n",
       "      <td>785.979</td>\n",
       "      <td>753</td>\n",
       "      <td>MEDIO</td>\n",
       "      <td>Asistido</td>\n",
       "      <td>BOGOTA</td>\n",
       "      <td>BOGOTA Y CUNDINAMARCA</td>\n",
       "    </tr>\n",
       "    <tr>\n",
       "      <th>3</th>\n",
       "      <td>4</td>\n",
       "      <td>Independiente</td>\n",
       "      <td>WEB</td>\n",
       "      <td>41-50</td>\n",
       "      <td>Antiguo</td>\n",
       "      <td>150000.0</td>\n",
       "      <td>1135.000</td>\n",
       "      <td>849</td>\n",
       "      <td>BAJO</td>\n",
       "      <td>Asistido</td>\n",
       "      <td>BOGOTA</td>\n",
       "      <td>BOGOTA Y CUNDINAMARCA</td>\n",
       "    </tr>\n",
       "    <tr>\n",
       "      <th>4</th>\n",
       "      <td>5</td>\n",
       "      <td>Independiente</td>\n",
       "      <td>APP</td>\n",
       "      <td>36-40</td>\n",
       "      <td>Antiguo</td>\n",
       "      <td>90000.0</td>\n",
       "      <td>781.242</td>\n",
       "      <td>653</td>\n",
       "      <td>MEDIO</td>\n",
       "      <td>Asistido</td>\n",
       "      <td>VALLE</td>\n",
       "      <td>VALLE</td>\n",
       "    </tr>\n",
       "  </tbody>\n",
       "</table>\n",
       "</div>"
      ],
      "text/plain": [
       "   id         tipo_p CANAL    EDAD TIPO_CLIENTE_CUENTAS  INGRESO_DECLARADO  \\\n",
       "0   1  Independiente   WEB   41-50              Antiguo           400000.0   \n",
       "1   2  Independiente   APP   31-35              Antiguo           150000.0   \n",
       "2   3  Independiente   APP   36-40        Nuevo Act Dav           140000.0   \n",
       "3   4  Independiente   WEB   41-50              Antiguo           150000.0   \n",
       "4   5  Independiente   APP   36-40              Antiguo            90000.0   \n",
       "\n",
       "   INGRESO_REAL  ACIERTA NIVEL_RIESGO TIPO_VENTA SUCURSAL  \\\n",
       "0      1250.000      675        MEDIO   Asistido   BOYACA   \n",
       "1       781.242      717        MEDIO   Asistido   BOGOTA   \n",
       "2       785.979      753        MEDIO   Asistido   BOGOTA   \n",
       "3      1135.000      849         BAJO   Asistido   BOGOTA   \n",
       "4       781.242      653        MEDIO   Asistido    VALLE   \n",
       "\n",
       "                REGIONAL  \n",
       "0             CENTRO SUR  \n",
       "1  BOGOTA Y CUNDINAMARCA  \n",
       "2  BOGOTA Y CUNDINAMARCA  \n",
       "3  BOGOTA Y CUNDINAMARCA  \n",
       "4                  VALLE  "
      ]
     },
     "execution_count": 2,
     "metadata": {},
     "output_type": "execute_result"
    }
   ],
   "source": [
    "cc_analytics = pd.read_excel(\"AnexoProfesionalIAnalítica.xlsx\")\n",
    "cc_analytics.head()"
   ]
  },
  {
   "cell_type": "markdown",
   "id": "7bd103b8",
   "metadata": {},
   "source": [
    "Es útil conocer los tipos de variables de los datos para decidir sobre el método de visualización a usar."
   ]
  },
  {
   "cell_type": "code",
   "execution_count": 3,
   "id": "54942262",
   "metadata": {},
   "outputs": [
    {
     "name": "stdout",
     "output_type": "stream",
     "text": [
      "<class 'pandas.core.frame.DataFrame'>\n",
      "RangeIndex: 5333 entries, 0 to 5332\n",
      "Data columns (total 12 columns):\n",
      " #   Column                Non-Null Count  Dtype  \n",
      "---  ------                --------------  -----  \n",
      " 0   id                    5333 non-null   int64  \n",
      " 1   tipo_p                5333 non-null   object \n",
      " 2   CANAL                 5333 non-null   object \n",
      " 3   EDAD                  5333 non-null   object \n",
      " 4   TIPO_CLIENTE_CUENTAS  5333 non-null   object \n",
      " 5   INGRESO_DECLARADO     5333 non-null   float64\n",
      " 6   INGRESO_REAL          5333 non-null   float64\n",
      " 7   ACIERTA               5333 non-null   int64  \n",
      " 8   NIVEL_RIESGO          5333 non-null   object \n",
      " 9   TIPO_VENTA            5333 non-null   object \n",
      " 10  SUCURSAL              5333 non-null   object \n",
      " 11  REGIONAL              5333 non-null   object \n",
      "dtypes: float64(2), int64(2), object(8)\n",
      "memory usage: 500.1+ KB\n",
      "None\n"
     ]
    }
   ],
   "source": [
    "cc_analytics_info = cc_analytics.info()\n",
    "print(cc_analytics_info)"
   ]
  },
  {
   "cell_type": "markdown",
   "id": "5ee2b17b",
   "metadata": {},
   "source": [
    "A continuación se identifican los valores faltantes y usando un loop, se puede calcular el número de valores faltantes en cada columna. \n",
    "\"True\" representa un valor perdido, \"False\" significa que el valor está presente en el conjunto de datos. En el *bucle*, el método `.value_counts ()` cuenta el número de valores \"True\"."
   ]
  },
  {
   "cell_type": "code",
   "execution_count": 4,
   "id": "6ce34972",
   "metadata": {},
   "outputs": [
    {
     "name": "stdout",
     "output_type": "stream",
     "text": [
      "id\n",
      "False    5333\n",
      "Name: id, dtype: int64\n",
      "\n",
      "tipo_p\n",
      "False    5333\n",
      "Name: tipo_p, dtype: int64\n",
      "\n",
      "CANAL\n",
      "False    5333\n",
      "Name: CANAL, dtype: int64\n",
      "\n",
      "EDAD\n",
      "False    5333\n",
      "Name: EDAD, dtype: int64\n",
      "\n",
      "TIPO_CLIENTE_CUENTAS\n",
      "False    5333\n",
      "Name: TIPO_CLIENTE_CUENTAS, dtype: int64\n",
      "\n",
      "INGRESO_DECLARADO\n",
      "False    5333\n",
      "Name: INGRESO_DECLARADO, dtype: int64\n",
      "\n",
      "INGRESO_REAL\n",
      "False    5333\n",
      "Name: INGRESO_REAL, dtype: int64\n",
      "\n",
      "ACIERTA\n",
      "False    5333\n",
      "Name: ACIERTA, dtype: int64\n",
      "\n",
      "NIVEL_RIESGO\n",
      "False    5333\n",
      "Name: NIVEL_RIESGO, dtype: int64\n",
      "\n",
      "TIPO_VENTA\n",
      "False    5333\n",
      "Name: TIPO_VENTA, dtype: int64\n",
      "\n",
      "SUCURSAL\n",
      "False    5333\n",
      "Name: SUCURSAL, dtype: int64\n",
      "\n",
      "REGIONAL\n",
      "False    5333\n",
      "Name: REGIONAL, dtype: int64\n",
      "\n"
     ]
    }
   ],
   "source": [
    "missing_data = cc_analytics.isnull()\n",
    "\n",
    "for column in missing_data.columns.values.tolist():\n",
    "    print(column)\n",
    "    print (missing_data[column].value_counts())\n",
    "    print(\"\")"
   ]
  },
  {
   "cell_type": "code",
   "execution_count": 5,
   "id": "7b17f41a",
   "metadata": {},
   "outputs": [
    {
     "data": {
      "text/plain": [
       "id                      0\n",
       "tipo_p                  0\n",
       "CANAL                   0\n",
       "EDAD                    0\n",
       "TIPO_CLIENTE_CUENTAS    0\n",
       "INGRESO_DECLARADO       0\n",
       "INGRESO_REAL            0\n",
       "ACIERTA                 0\n",
       "NIVEL_RIESGO            0\n",
       "TIPO_VENTA              0\n",
       "SUCURSAL                0\n",
       "REGIONAL                0\n",
       "dtype: int64"
      ]
     },
     "execution_count": 5,
     "metadata": {},
     "output_type": "execute_result"
    }
   ],
   "source": [
    "cc_analytics.isnull().sum()"
   ]
  },
  {
   "cell_type": "markdown",
   "id": "4dd5ee0c",
   "metadata": {},
   "source": [
    "Con base en la información anterior se sabe que cada columna tiene 5333 filas de datos y que en ninguna columna se presentan datos faltantes.\n",
    " \n",
    "Utilizando el método `.describe()` se obtiene información estadística de los datos, tanto de las variables categoricas como de las númericas.\n",
    "\n",
    "**Variables categóricas**"
   ]
  },
  {
   "cell_type": "code",
   "execution_count": 6,
   "id": "0bffc493",
   "metadata": {},
   "outputs": [
    {
     "name": "stdout",
     "output_type": "stream",
     "text": [
      "          tipo_p CANAL    EDAD TIPO_CLIENTE_CUENTAS NIVEL_RIESGO TIPO_VENTA  \\\n",
      "count       5333  5333    5333                 5333         5333       5333   \n",
      "unique         3     2       7                    3            3          2   \n",
      "top     Empleado   APP   41-50              Antiguo        MEDIO   Asistido   \n",
      "freq        3715  4253    1461                 2732         3118       3198   \n",
      "\n",
      "       SUCURSAL               REGIONAL  \n",
      "count      5333                   5333  \n",
      "unique       21                      7  \n",
      "top      BOGOTA  BOGOTA Y CUNDINAMARCA  \n",
      "freq       2289                   2289  \n"
     ]
    }
   ],
   "source": [
    "cc_analytics_description_categ = cc_analytics.describe(include=['object'])\n",
    "print(cc_analytics_description_categ)"
   ]
  },
  {
   "cell_type": "markdown",
   "id": "2d9cba52",
   "metadata": {},
   "source": [
    "**Variables númericas**"
   ]
  },
  {
   "cell_type": "code",
   "execution_count": 7,
   "id": "455f8984",
   "metadata": {
    "scrolled": true
   },
   "outputs": [
    {
     "name": "stdout",
     "output_type": "stream",
     "text": [
      "                id  INGRESO_DECLARADO  INGRESO_REAL      ACIERTA\n",
      "count  5333.000000        5333.000000   5333.000000  5333.000000\n",
      "mean   2667.000000        8667.895975   4302.222439   753.593475\n",
      "std    1539.648824       13502.841959   4928.627632    84.908766\n",
      "min       1.000000           0.004000    737.717000   457.000000\n",
      "25%    1334.000000        3343.042000    902.780000   687.000000\n",
      "50%    2667.000000        5400.000000   2210.000000   746.000000\n",
      "75%    4000.000000        9900.000000   5690.042000   812.000000\n",
      "max    5333.000000      400000.000000  54481.000000   999.000000\n"
     ]
    }
   ],
   "source": [
    "cc_analytics_description_values = cc_analytics.describe()\n",
    "print(cc_analytics_description_values)"
   ]
  },
  {
   "cell_type": "markdown",
   "id": "fef8262e",
   "metadata": {},
   "source": [
    "Los datos suministrados tiene de variables, tanto categoricas como númericas, que contiene valores en diferentes rangos.\n",
    "\n",
    "La información de los clientes es anonima, se identifican con el índice *id*. Las columnas dan la información respecto al perfil del solicitante y al proceso de solicitud, así:\n",
    "\n",
    "**PERFIL DEL SOLICITANTE**\n",
    " * *tipo_p*: ocupación dentro de tres (3) categorías.\n",
    " * *EDAD*: edad dentro de uno de siete (7) rangos establecidos.\n",
    " * *TIPO_CLIENTE_CUENTAS*: historial de cliente con el Banco dentro de tres (3) categorías.\n",
    " * *INGRESO_DECLARADO*: ingreso económico declarado en la solicitud.\n",
    " * *INGRESO_REAL*: ingreso económico soportado en la solicitud.\n",
    " * *ACIERTA*: modelo de score de crédito consistente en un esquema estadístico que se basa en el comportamiento y hábito de pago histórico con el objeto de permitir dar a conocer la probabilidad de cumplir con una obligación de sus clientes actuales y/o potenciales. Variable continua dentro del rango de 450 a 1000.\n",
    " * *NIVEL_RIESGO*: calificación de riesgo dentro de tres (3) categorías.\n",
    " \n",
    "**PROCESO DE SOLICITUD**\n",
    " * *CANAL*: canal por el que se hace la solicitud dentro de dos (2) categorías.\n",
    " * *TIPO_VENTA*: recepción de asistencia durante la solicitud.\n",
    " * *SUCURSAL*: oficina que atiende la solicitud, con 21 oficinas diferentes identificadas.\n",
    " * *REGIONAL*: regional a la que pertenece la sucursal con 7 regionales identificadas."
   ]
  },
  {
   "cell_type": "markdown",
   "id": "5a6558c1",
   "metadata": {},
   "source": [
    "**Información necesaria**: es necesario conocer la diferencia entre el ingreso declarado y el ingreso real para clasificar a los clientes antes de implementar el modelo. Se propone clasificar a los clientes según la diferencia porcentual entre el valor real y el valor reportado de ingresos. Siguiendo las recomendaciones se usara la siguiente clasificación:\n",
    " * 1 (True): si el ingreso reportado es >=20%  respecto al ingreso real\n",
    " * 0 (False): para los otros casos (<20%)"
   ]
  },
  {
   "cell_type": "code",
   "execution_count": 8,
   "id": "23c300e0",
   "metadata": {},
   "outputs": [],
   "source": [
    "dif_Perc = 100*np.absolute(((cc_analytics[\"INGRESO_REAL\"]-cc_analytics[\"INGRESO_DECLARADO\"]))/(cc_analytics[\"INGRESO_REAL\"]))\n",
    "\n",
    "cc_analytics[\"dif_Perc\"] = dif_Perc\n",
    "\n",
    "cc_analytics[\"REPORTA_MAYOR_INGRESO\"] = \"\" \n",
    "\n",
    "for i in cc_analytics.index:\n",
    "    if(cc_analytics[\"INGRESO_REAL\"][i]<cc_analytics[\"INGRESO_DECLARADO\"][i]):\n",
    "        if(cc_analytics[\"dif_Perc\"][i] >= 20.0):\n",
    "            cc_analytics.loc[i,\"REPORTA_MAYOR_INGRESO\"] = \"y\"\n",
    "        else:\n",
    "            cc_analytics.loc[i,\"REPORTA_MAYOR_INGRESO\"] = \"n\"\n",
    "    else:\n",
    "        cc_analytics.loc[i,\"REPORTA_MAYOR_INGRESO\"] = \"n\""
   ]
  },
  {
   "cell_type": "code",
   "execution_count": 9,
   "id": "f9716139",
   "metadata": {},
   "outputs": [
    {
     "name": "stdout",
     "output_type": "stream",
     "text": [
      "count     5333\n",
      "unique       2\n",
      "top          y\n",
      "freq      3430\n",
      "Name: REPORTA_MAYOR_INGRESO, dtype: object\n"
     ]
    }
   ],
   "source": [
    "cc_analytics_description_report = cc_analytics['REPORTA_MAYOR_INGRESO'].describe()\n",
    "print(cc_analytics_description_report)"
   ]
  },
  {
   "cell_type": "markdown",
   "id": "27332393",
   "metadata": {},
   "source": [
    "Asignada esta clasificación, se encuentra que aproximadamente el 64% de los solicitantes declaran mayores ingresos a los que realmente devengan.\n",
    "\n",
    "Antes de iniciar la implementación del modelo, es útil visualizar la distribución de algunas de las variables.\n",
    "\n",
    "En la siguiente gráfica se observa la distribución de edades dentro de los rangos reportados para cada tipo de ocupación.\n",
    "\n",
    " * Tanto los independietes como los empleados se distribuyen de manera normal en el rango de edad, siendo el rango de 41-50 el  que presenta mayor cantidad de personas.\n",
    " * La mayoría de solicitudes son hechas por empleados, seguidos por los independientes y luego los pensionados.\n",
    " * Los pensionados son, en general, mayores de 50 años.\n",
    " * Para facilitar la visualización de las otras varibles se utilizara el tipo de ocupación como identificador de la población y no la edad."
   ]
  },
  {
   "cell_type": "code",
   "execution_count": 10,
   "id": "87fc6028",
   "metadata": {},
   "outputs": [
    {
     "data": {
      "image/png": "[encoded data removed]",
      "text/plain": [
       "<Figure size 396.25x288 with 1 Axes>"
      ]
     },
     "metadata": {
      "needs_background": "light"
     },
     "output_type": "display_data"
    }
   ],
   "source": [
    "category_order = ['<=22',' 23-26',' 27-30',' 31-35',' 36-40',\" 41-50\",'>50']\n",
    "sns.catplot(x=\"EDAD\", hue=\"tipo_p\",\n",
    "\n",
    "                data=cc_analytics, kind=\"count\", \n",
    "                \n",
    "                order=category_order,\n",
    "\n",
    "                height=4);"
   ]
  },
  {
   "cell_type": "markdown",
   "id": "5e4b9164",
   "metadata": {},
   "source": [
    "Las siguientes figuras muestran la relación entre el ingreso real y el ingreso declarado por los solicitantes. Las figuras son gráficos log-log para facilitar la visualización.\n",
    " * Para los tres tipos de ocupación se presenta una tendencia a declarar mayores ingresos a los realmente devengados."
   ]
  },
  {
   "cell_type": "code",
   "execution_count": 11,
   "id": "fa46c785",
   "metadata": {},
   "outputs": [
    {
     "data": {
      "text/plain": [
       "<seaborn.axisgrid.FacetGrid at 0x7fab95f1e9d0>"
      ]
     },
     "execution_count": 11,
     "metadata": {},
     "output_type": "execute_result"
    },
    {
     "data": {
      "image/png": "[encoded data removed]",
      "text/plain": [
       "<Figure size 1080x360 with 3 Axes>"
      ]
     },
     "metadata": {
      "needs_background": "light"
     },
     "output_type": "display_data"
    }
   ],
   "source": [
    "ax0 = sns.relplot(x=\"INGRESO_REAL\", y=\"INGRESO_DECLARADO\",col=\"tipo_p\", data=cc_analytics);\n",
    "ax0.set(xscale=\"log\",yscale=\"log\")"
   ]
  },
  {
   "cell_type": "markdown",
   "id": "bbfd0695",
   "metadata": {},
   "source": [
    "Para hacer un mejor analisis se pueden comparar las distribuciones de los ingresos declarados y reales para cada tipo de ocupación. Las figuras se presentan en escala logaritmica para el eje x. Se puede decir que:\n",
    "\n",
    " * El rango de los ingresos declarados y reales es consistente, sin embargo se observa que los ingresos reportados se distribuyen hasta un orden de mangitud mayor (10^4) comparado con los ingresos reales (10^3).\n",
    " * Se reportan ingresos reales muy bajos en un número significativo de solicitudes."
   ]
  },
  {
   "cell_type": "code",
   "execution_count": 12,
   "id": "2aa6a64b",
   "metadata": {
    "scrolled": true
   },
   "outputs": [
    {
     "data": {
      "image/png": "[encoded data removed]",
      "text/plain": [
       "<Figure size 1080x1080 with 2 Axes>"
      ]
     },
     "metadata": {
      "needs_background": "light"
     },
     "output_type": "display_data"
    }
   ],
   "source": [
    "#cc_analytics['EDAD'].plot(kind='hist')\n",
    "fig, axs = plt.subplots(1, 2, figsize=(15, 15))\n",
    "\n",
    "sns.histplot(cc_analytics,\n",
    "             x=\"INGRESO_REAL\", hue=\"tipo_p\",\n",
    "             multiple=\"stack\", edgecolor=\".3\",\n",
    "             linewidth=.5, log_scale=True, ax=axs[0]\n",
    "            )\n",
    "sns.histplot(cc_analytics,\n",
    "    x=\"INGRESO_DECLARADO\", hue=\"tipo_p\",\n",
    "    multiple=\"stack\",\n",
    "    edgecolor=\".3\",\n",
    "    linewidth=.5,\n",
    "    log_scale=True, ax=axs[1]\n",
    ")\n",
    "#ax.set(xlabel='log (Ingreso Real)', ylabel='Frecuencia')\n",
    "plt.show()"
   ]
  },
  {
   "cell_type": "markdown",
   "id": "653ce880",
   "metadata": {},
   "source": [
    "Se puede revisar la distribución de los valores declarados y reales utilizando otro tipo de visualización."
   ]
  },
  {
   "cell_type": "code",
   "execution_count": 13,
   "id": "d93b366d",
   "metadata": {},
   "outputs": [
    {
     "data": {
      "image/png": "[encoded data removed]",
      "text/plain": [
       "<Figure size 1080x720 with 2 Axes>"
      ]
     },
     "metadata": {
      "needs_background": "light"
     },
     "output_type": "display_data"
    }
   ],
   "source": [
    "fig, axs = plt.subplots(1, 2, figsize=(15, 10))\n",
    "ax3 = sns.boxplot(x=\"tipo_p\", y=\"INGRESO_DECLARADO\", data=cc_analytics, ax=axs[0])\n",
    "ax3.set(yscale=\"log\")\n",
    "\n",
    "ax4 = sns.boxplot(x=\"tipo_p\", y=\"INGRESO_REAL\", data=cc_analytics,ax=axs[1])\n",
    "ax4.set(yscale=\"log\")\n",
    "\n",
    "plt.show()"
   ]
  },
  {
   "cell_type": "markdown",
   "id": "89d50c1b",
   "metadata": {},
   "source": [
    "Otra variable de interés es la calificación *ACIERTA* y su categoría asociada *NIVEL DE RIESGO*"
   ]
  },
  {
   "cell_type": "code",
   "execution_count": 14,
   "id": "eddd160f",
   "metadata": {
    "scrolled": true
   },
   "outputs": [
    {
     "data": {
      "image/png": "[encoded data removed]",
      "text/plain": [
       "<Figure size 432x288 with 1 Axes>"
      ]
     },
     "metadata": {
      "needs_background": "light"
     },
     "output_type": "display_data"
    }
   ],
   "source": [
    "ax6 = sns.histplot(cc_analytics,\n",
    "    x=\"ACIERTA\", hue=\"tipo_p\",\n",
    "    multiple=\"stack\",\n",
    "    edgecolor=\".3\",\n",
    "    linewidth=.5,\n",
    "    )\n",
    "ax6.set(xlabel='ACIERTA', ylabel='Frecuencia')\n",
    "plt.show()"
   ]
  },
  {
   "cell_type": "code",
   "execution_count": 15,
   "id": "b8e64d43",
   "metadata": {
    "scrolled": false
   },
   "outputs": [
    {
     "data": {
      "image/png": "[encoded data removed]",
      "text/plain": [
       "<Figure size 396.25x288 with 1 Axes>"
      ]
     },
     "metadata": {
      "needs_background": "light"
     },
     "output_type": "display_data"
    }
   ],
   "source": [
    "category_order_RIESGO = ['BAJO','MEDIO','ALTO']\n",
    "sns.catplot(x=\"NIVEL_RIESGO\", hue=\"tipo_p\",\n",
    "\n",
    "                data=cc_analytics, kind=\"count\", \n",
    "                \n",
    "                order=category_order_RIESGO,\n",
    "\n",
    "                height=4);"
   ]
  },
  {
   "cell_type": "markdown",
   "id": "67eeb71a",
   "metadata": {},
   "source": [
    " * Se observa que para los tres tipos de ocupación el nivel de riesgo más común es MEDIO."
   ]
  },
  {
   "cell_type": "markdown",
   "id": "8301ab7e",
   "metadata": {},
   "source": [
    "## 2. Modelo analítico"
   ]
  },
  {
   "cell_type": "markdown",
   "id": "7a769d11",
   "metadata": {},
   "source": [
    "Para implmentar el modelo se van a realizar primero tres tareas:\n",
    " * Convertir los datos no numéricos en numéricos.\n",
    " * Dividir los datos en conjuntos de prueba y entrenamiento.\n",
    " * Escalar los valores a un rango uniforme.\n",
    "\n",
    "La conversión de los valores no numéricos en valores numéricos se hace porque no solo da como resultado un cálculo más rápido, sino que también muchos modelos de aprendizaje automático (como los desarrollados con scikit-learn) requieren que los datos estén en un formato estrictamente numérico. Esto se hace usando una técnica llamada *label encoding*."
   ]
  },
  {
   "cell_type": "code",
   "execution_count": 16,
   "id": "9f1cb464",
   "metadata": {},
   "outputs": [],
   "source": [
    "from sklearn.preprocessing import LabelEncoder\n",
    "\n",
    "le = LabelEncoder()\n",
    "\n",
    "for col in cc_analytics.columns.to_numpy():\n",
    "    if cc_analytics[col].dtypes == 'object':\n",
    "        cc_analytics[col]=le.fit_transform(cc_analytics[col])"
   ]
  },
  {
   "cell_type": "markdown",
   "id": "53fed044",
   "metadata": {},
   "source": [
    "Ahora, se dividen los datos en un conjunto de entrenamiento y un conjunto de pruebas para preparar los datos para dos fases diferentes del modelo de aprendizaje automático: entrenamiento y pruebas. Siguiendo la recomendación de no usar ninguna información de los datos de prueba para escalar los datos de entrenamiento, primero se dividen los datos y luego se hace el escalamiento.\n",
    "\n",
    "Son de interés los datos disponibles respecto al prefil del solicitante, por lo tanto no se tendrán en cuenta las otras funciones (que denomine proceso de solicitud) del conjunto de datos para hacer las predicciones.\n",
    "\n",
    "***Nota***: en este punto se genera la base de datos adjunta al desarrollo de la prueba."
   ]
  },
  {
   "cell_type": "code",
   "execution_count": 17,
   "id": "41a0add6",
   "metadata": {},
   "outputs": [],
   "source": [
    "from sklearn.model_selection import train_test_split\n",
    "cc_analytics = cc_analytics.drop([\"id\",\"CANAL\",\"SUCURSAL\",\"REGIONAL\",\"dif_Perc\"], axis=1)\n",
    "cc_analytics.to_excel(\"JuansebastianGomezM.xlsx\")\n",
    "cc_analytics_model = cc_analytics.to_numpy()\n",
    "\n",
    "X,y = cc_analytics_model[:,0:8], cc_analytics_model[:,8]\n",
    "\n",
    "X_train, X_test, y_train, y_test = train_test_split(X,\n",
    "                                y,\n",
    "                                test_size=0.33,\n",
    "                                random_state=42)"
   ]
  },
  {
   "cell_type": "markdown",
   "id": "42146a96",
   "metadata": {},
   "source": [
    "Solo queda un paso final de preprocesamiento de escalado antes de poder ajustar un modelo de aprendizaje automático a los datos.\n",
    "\n",
    "Se reescalan todos los valores númericos al rango de 0-1."
   ]
  },
  {
   "cell_type": "code",
   "execution_count": 18,
   "id": "ca66cbe2",
   "metadata": {},
   "outputs": [
    {
     "name": "stdout",
     "output_type": "stream",
     "text": [
      "Train set: (3573, 8) (3573,)\n",
      "Test set: (1760, 8) (1760,)\n"
     ]
    }
   ],
   "source": [
    "from sklearn.preprocessing import MinMaxScaler\n",
    "scaler = MinMaxScaler(feature_range=(0, 1))\n",
    "rescaledX_train = scaler.fit_transform(X_train)\n",
    "rescaledX_test = scaler.transform(X_test)\n",
    "\n",
    "print ('Train set:', rescaledX_train.shape,  y_train.shape)\n",
    "print ('Test set:', rescaledX_test.shape,  y_test.shape)"
   ]
  },
  {
   "cell_type": "markdown",
   "id": "8a817405",
   "metadata": {},
   "source": [
    "Esencialmente, predecir si un cliente reporta ingresos mayores a los realmente devengados o no es una tarea de clasificación.\n",
    "\n",
    "Según los datos, de 5333 casos, hay 3430 (64.3%) de solicitudes en las que se reportan mayores ingresos y 1903 (35,7%) de solicitudes en las que no se reportan mayores ingresos.\n",
    "\n",
    "Esto da un punto de referencia. Un buen modelo de aprendizaje automático debería poder predecir con precisión el reporte de ingresos con respecto a estas estadísticas.\n",
    "\n",
    "Considerando que las variables están correlacionados, se usa el hecho de que los modelos lineales generalizados funcionan bien en estos casos. Se escoge entonces un modelo de regresión logística. "
   ]
  },
  {
   "cell_type": "code",
   "execution_count": 19,
   "id": "624fe1d1",
   "metadata": {},
   "outputs": [
    {
     "data": {
      "text/plain": [
       "LogisticRegression()"
      ]
     },
     "execution_count": 19,
     "metadata": {},
     "output_type": "execute_result"
    }
   ],
   "source": [
    "from sklearn.linear_model import LogisticRegression\n",
    "logreg = LogisticRegression()\n",
    "\n",
    "logreg.fit(rescaledX_train,y_train)"
   ]
  },
  {
   "cell_type": "code",
   "execution_count": 20,
   "id": "efc54ce9",
   "metadata": {},
   "outputs": [
    {
     "data": {
      "text/plain": [
       "array([1., 1., 1., ..., 1., 1., 0.])"
      ]
     },
     "execution_count": 20,
     "metadata": {},
     "output_type": "execute_result"
    }
   ],
   "source": [
    "from sklearn.metrics import confusion_matrix\n",
    "y_pred = logreg.predict(rescaledX_test)\n",
    "y_pred"
   ]
  },
  {
   "cell_type": "code",
   "execution_count": 21,
   "id": "df7740a5",
   "metadata": {},
   "outputs": [
    {
     "data": {
      "text/plain": [
       "array([[0.13625958, 0.86374042],\n",
       "       [0.42972056, 0.57027944],\n",
       "       [0.22283571, 0.77716429],\n",
       "       ...,\n",
       "       [0.4931654 , 0.5068346 ],\n",
       "       [0.18621951, 0.81378049],\n",
       "       [0.51803762, 0.48196238]])"
      ]
     },
     "execution_count": 21,
     "metadata": {},
     "output_type": "execute_result"
    }
   ],
   "source": [
    "y_pred_prob = logreg.predict_proba(rescaledX_test)\n",
    "y_pred_prob"
   ]
  },
  {
   "cell_type": "markdown",
   "id": "9299e467",
   "metadata": {},
   "source": [
    "### Evaluación"
   ]
  },
  {
   "cell_type": "markdown",
   "id": "038231e5",
   "metadata": {},
   "source": [
    "Para evaluar el modelo se utiliza en el conjunto de prueba y diferentes métricas"
   ]
  },
  {
   "cell_type": "markdown",
   "id": "24b9ea68",
   "metadata": {},
   "source": [
    "### jaccard index\n",
    "\n",
    "Se prueba el índice jaccard para evaluar la precisión. Se puede definir jaccard como el tamaño de la intersección dividido por el tamaño de la unión de dos conjuntos de etiquetas. Si todo el conjunto de etiquetas predichas para una muestra coincide estrictamente con el conjunto real de etiquetas, entonces la precisión del subconjunto es 1.0; de lo contrario, es 0.0. "
   ]
  },
  {
   "cell_type": "code",
   "execution_count": 22,
   "id": "01d18e52",
   "metadata": {},
   "outputs": [
    {
     "data": {
      "text/plain": [
       "0.5332390381895332"
      ]
     },
     "execution_count": 22,
     "metadata": {},
     "output_type": "execute_result"
    }
   ],
   "source": [
    "from sklearn.metrics import jaccard_score\n",
    "jaccard_score(y_test, y_pred,pos_label=0)"
   ]
  },
  {
   "cell_type": "markdown",
   "id": "3d249116",
   "metadata": {},
   "source": [
    "### confusion matrix\n",
    "\n",
    "Otra forma de ver la precisión del clasificador es mirar la matriz de confusión."
   ]
  },
  {
   "cell_type": "code",
   "execution_count": 23,
   "id": "ef27ed72",
   "metadata": {},
   "outputs": [
    {
     "name": "stdout",
     "output_type": "stream",
     "text": [
      "[[1053   73]\n",
      " [ 257  377]]\n"
     ]
    }
   ],
   "source": [
    "from sklearn.metrics import classification_report, confusion_matrix\n",
    "import itertools\n",
    "def plot_confusion_matrix(cm, classes,\n",
    "                          normalize=False,\n",
    "                          title='Confusion matrix',\n",
    "                          cmap=plt.cm.Blues):\n",
    "    \"\"\"\n",
    "    This function prints and plots the confusion matrix.\n",
    "    Normalization can be applied by setting `normalize=True`.\n",
    "    \"\"\"\n",
    "    if normalize:\n",
    "        cm = cm.astype('float') / cm.sum(axis=1)[:, np.newaxis]\n",
    "        print(\"Normalized confusion matrix\")\n",
    "    else:\n",
    "        print('Confusion matrix, without normalization')\n",
    "\n",
    "    print(cm)\n",
    "\n",
    "    plt.imshow(cm, interpolation='nearest', cmap=cmap)\n",
    "    plt.title(title)\n",
    "    plt.colorbar()\n",
    "    tick_marks = np.arange(len(classes))\n",
    "    plt.xticks(tick_marks, classes, rotation=45)\n",
    "    plt.yticks(tick_marks, classes)\n",
    "\n",
    "    fmt = '.2f' if normalize else 'd'\n",
    "    thresh = cm.max() / 2.\n",
    "    for i, j in itertools.product(range(cm.shape[0]), range(cm.shape[1])):\n",
    "        plt.text(j, i, format(cm[i, j], fmt),\n",
    "                 horizontalalignment=\"center\",\n",
    "                 color=\"white\" if cm[i, j] > thresh else \"black\")\n",
    "\n",
    "    plt.tight_layout()\n",
    "    plt.ylabel('True label')\n",
    "    plt.xlabel('Predicted label')\n",
    "print(confusion_matrix(y_test, y_pred, labels=[1,0]))"
   ]
  },
  {
   "cell_type": "code",
   "execution_count": 24,
   "id": "8b28ceef",
   "metadata": {},
   "outputs": [
    {
     "name": "stdout",
     "output_type": "stream",
     "text": [
      "Confusion matrix, without normalization\n",
      "[[1053   73]\n",
      " [ 257  377]]\n"
     ]
    },
    {
     "data": {
      "image/png": "[encoded data removed]",
      "text/plain": [
       "<Figure size 432x288 with 2 Axes>"
      ]
     },
     "metadata": {
      "needs_background": "light"
     },
     "output_type": "display_data"
    }
   ],
   "source": [
    "# Compute confusion matrix\n",
    "cnf_matrix = confusion_matrix(y_test, y_pred, labels=[1,0])\n",
    "np.set_printoptions(precision=2)\n",
    "\n",
    "\n",
    "# Plot non-normalized confusion matrix\n",
    "plt.figure()\n",
    "plot_confusion_matrix(cnf_matrix, classes=['>20%=1','<20%=0'],normalize= False,  title='Confusion matrix')"
   ]
  },
  {
   "cell_type": "code",
   "execution_count": 25,
   "id": "1508fd66",
   "metadata": {},
   "outputs": [
    {
     "name": "stdout",
     "output_type": "stream",
     "text": [
      "              precision    recall  f1-score   support\n",
      "\n",
      "         0.0       0.84      0.59      0.70       634\n",
      "         1.0       0.80      0.94      0.86      1126\n",
      "\n",
      "    accuracy                           0.81      1760\n",
      "   macro avg       0.82      0.76      0.78      1760\n",
      "weighted avg       0.82      0.81      0.80      1760\n",
      "\n"
     ]
    }
   ],
   "source": [
    "print (classification_report(y_test, y_pred))"
   ]
  },
  {
   "cell_type": "markdown",
   "id": "7f53ec2c",
   "metadata": {},
   "source": [
    " * Es decir que de las predicciones de este clasificador son correctas el 81% de las veces.\n",
    "\n",
    " * La métrica recall informa sobre la cantidad que el clasificador es capaz de identificar correctamente."
   ]
  },
  {
   "cell_type": "markdown",
   "id": "03993235",
   "metadata": {},
   "source": [
    "### log loss\n",
    "\n",
    "Esta probabilidad es un valor entre 0 y 1. Log Loss (pérdida logarítmica) mide el rendimiento de un clasificador donde la salida prevista es un valor de probabilidad entre 0 y 1"
   ]
  },
  {
   "cell_type": "code",
   "execution_count": 26,
   "id": "a6de8108",
   "metadata": {},
   "outputs": [
    {
     "data": {
      "text/plain": [
       "0.41210301321849535"
      ]
     },
     "execution_count": 26,
     "metadata": {},
     "output_type": "execute_result"
    }
   ],
   "source": [
    "from sklearn.metrics import log_loss\n",
    "log_loss(y_test, y_pred_prob)"
   ]
  },
  {
   "cell_type": "markdown",
   "id": "eeb0241f",
   "metadata": {},
   "source": [
    "## 3. Conclusión: políticas para mitigar el riesgo de estos clientes."
   ]
  },
  {
   "cell_type": "markdown",
   "id": "c41074bc",
   "metadata": {},
   "source": [
    " * El modelo informa con una buena exactitud la cantidad de clientes que declaran más ingresos que los que realmente devengan.\n",
    " * Para mitigar el riesgo de estos clientes se pueden implementar las siguientes acciones:\n",
    "   * Solicitar soportes de ingreso a los clientes clasificados.\n",
    "   * Considerar el nivel de riesgo del solicitante para tomar una decisión favorable.\n",
    "   * Enfocar estrategias de mercadeo hacia el segmento de **empleados** y **pensionados** teniendo en cuenta su nivel de riesgo y porque en estos dos segmentos se presenta una menor diferencia porcentual entre los ingresos declarados y los realmente devengados.\n",
    "  * Respecto al segmento de **clientes independientes**:\n",
    "    * Se debe solicitar extractos bancarios donde se evidencie el flujo de dinero.\n",
    "    * Se sugiere solicitar documentos legales que soporten la actividad ecónomica.\n",
    "    * Se sugiere presentar referencias comerciales del cliente/negocio.\n",
    "    * Se sugiere acompañamiento del gerente comercial del Banco para una mejor verificación de la información. "
   ]
  }
 ],
 "metadata": {
  "kernelspec": {
   "display_name": "Python 3",
   "language": "python",
   "name": "python3"
  },
  "language_info": {
   "codemirror_mode": {
    "name": "ipython",
    "version": 3
   },
   "file_extension": ".py",
   "mimetype": "text/x-python",
   "name": "python",
   "nbconvert_exporter": "python",
   "pygments_lexer": "ipython3",
   "version": "3.9.5"
  }
 },
 "nbformat": 4,
 "nbformat_minor": 5
}
